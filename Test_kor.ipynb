{
 "cells": [
  {
   "cell_type": "code",
   "execution_count": 1,
   "metadata": {},
   "outputs": [
    {
     "name": "stderr",
     "output_type": "stream",
     "text": [
      "2024-05-10 09:07:03.082958: I tensorflow/core/util/port.cc:113] oneDNN custom operations are on. You may see slightly different numerical results due to floating-point round-off errors from different computation orders. To turn them off, set the environment variable `TF_ENABLE_ONEDNN_OPTS=0`.\n",
      "2024-05-10 09:07:03.103347: I tensorflow/core/platform/cpu_feature_guard.cc:210] This TensorFlow binary is optimized to use available CPU instructions in performance-critical operations.\n",
      "To enable the following instructions: AVX2 AVX_VNNI FMA, in other operations, rebuild TensorFlow with the appropriate compiler flags.\n",
      "2024-05-10 09:07:03.419399: W tensorflow/compiler/tf2tensorrt/utils/py_utils.cc:38] TF-TRT Warning: Could not find TensorRT\n"
     ]
    }
   ],
   "source": [
    "import tensorflow as tf\n",
    "import torch\n",
    "\n",
    "from transformers import BertTokenizer\n",
    "from transformers import BertForSequenceClassification, AdamW, BertConfig\n",
    "from transformers import get_linear_schedule_with_warmup\n",
    "from torch.utils.data import TensorDataset, DataLoader, RandomSampler, SequentialSampler\n",
    "from keras.preprocessing.sequence import pad_sequences\n",
    "from sklearn.model_selection import train_test_split\n",
    "\n",
    "import pandas as pd\n",
    "import numpy as np\n",
    "import random\n",
    "import time\n",
    "import datetime\n",
    "import csv\n",
    "import torch.nn as nn"
   ]
  },
  {
   "cell_type": "code",
   "execution_count": 2,
   "metadata": {},
   "outputs": [
    {
     "name": "stderr",
     "output_type": "stream",
     "text": [
      "Some weights of BertForSequenceClassification were not initialized from the model checkpoint at kykim/bert-kor-base and are newly initialized: ['classifier.bias', 'classifier.weight']\n",
      "You should probably TRAIN this model on a down-stream task to be able to use it for predictions and inference.\n"
     ]
    }
   ],
   "source": [
    "import torch\n",
    "from transformers import BertTokenizer, BertForSequenceClassification\n",
    "tokenizer = BertTokenizer.from_pretrained('kykim/bert-kor-base')\n",
    "model = BertForSequenceClassification.from_pretrained('kykim/bert-kor-base', num_labels=318)"
   ]
  },
  {
   "cell_type": "code",
   "execution_count": 3,
   "metadata": {},
   "outputs": [
    {
     "data": {
      "text/plain": [
       "<All keys matched successfully>"
      ]
     },
     "execution_count": 3,
     "metadata": {},
     "output_type": "execute_result"
    }
   ],
   "source": [
    "model.load_state_dict(torch.load('훈련의 결과로 나온 모델 이름.pth'))"
   ]
  },
  {
   "cell_type": "code",
   "execution_count": 4,
   "metadata": {},
   "outputs": [],
   "source": [
    "# 입력 데이터 변환\n",
    "def convert_input_data(sentences):\n",
    "    sentences = [\"[CLS] \" + str(sentence) + \" [SEP]\" for sentence in sentences]\n",
    "    print(sentences)\n",
    "    # BERT의 토크나이저로 문장을 토큰으로 분리\n",
    "    tokenized_texts = [tokenizer.tokenize(sent) for sent in sentences]\n",
    "    print(tokenized_texts)\n",
    "    # 입력 토큰의 최대 시퀀스 길이\n",
    "    MAX_LEN = 64\n",
    "\n",
    "    # 토큰을 숫자 인덱스로 변환\n",
    "    input_ids = [tokenizer.convert_tokens_to_ids(x) for x in tokenized_texts]\n",
    "    \n",
    "    # 문장을 MAX_LEN 길이에 맞게 자르고, 모자란 부분을 패딩 0으로 채움\n",
    "    input_ids = pad_sequences(input_ids, maxlen=MAX_LEN, dtype=\"long\", truncating=\"post\", padding=\"post\")\n",
    "\n",
    "    # 어텐션 마스크 초기화\n",
    "    attention_masks = []\n",
    "\n",
    "    # 어텐션 마스크를 패딩이 아니면 1, 패딩이면 0으로 설정\n",
    "    # 패딩 부분은 BERT 모델에서 어텐션을 수행하지 않아 속도 향상\n",
    "    for seq in input_ids:\n",
    "        seq_mask = [float(i>0) for i in seq]\n",
    "        attention_masks.append(seq_mask)\n",
    "\n",
    "    # 데이터를 파이토치의 텐서로 변환\n",
    "    inputs = torch.tensor(input_ids)\n",
    "    masks = torch.tensor(attention_masks)\n",
    "\n",
    "    return inputs, masks\n",
    "\n",
    "\n",
    "\n",
    "# 문장 테스트\n",
    "def test_sentences(sentences):\n",
    "\n",
    "    # 평가모드로 변경\n",
    "    model.eval()\n",
    "\n",
    "    # 문장을 입력 데이터로 변환\n",
    "    inputs, masks = convert_input_data(sentences)\n",
    "\n",
    "    # 데이터를 GPU에 넣음\n",
    "    b_input_ids = inputs\n",
    "    b_input_mask = masks\n",
    "            \n",
    "    # 그래디언트 계산 안함\n",
    "    with torch.no_grad():     \n",
    "        # Forward 수행\n",
    "        outputs = model(b_input_ids, \n",
    "                        token_type_ids=None, \n",
    "                        attention_mask=b_input_mask)\n",
    "\n",
    "    # 로스 구함\n",
    "    logits = outputs[0]\n",
    "\n",
    "    # CPU로 데이터 이동\n",
    "    logits = logits.detach().cpu().numpy()\n",
    "\n",
    "    return logits"
   ]
  },
  {
   "cell_type": "code",
   "execution_count": 5,
   "metadata": {},
   "outputs": [
    {
     "name": "stdout",
     "output_type": "stream",
     "text": [
      "['[CLS] 제주무1개 [SEP]', '[CLS] 청경채 [SEP]', '[CLS] 냉이 * 1봉 [SEP]', '[CLS] 쑥갓 2KG [SEP]', '[CLS] 백설)행복한아식통통숙주380g [SEP]', '[CLS] 팩느타리1팩 [SEP]', '[CLS] 표고버섯(국산) 1k [SEP]', '[CLS] 참조기 [SEP]', '[CLS] 쭈꾸미 [SEP]', '[CLS] 새송이버섯(1인*4봉 한정)1봉 [SEP]', '[CLS] 알배기배추1통 [SEP]']\n",
      "[['[CLS]', '제주', '##무', '##1개', '[SEP]'], ['[CLS]', '청', '##경', '##채', '[SEP]'], ['[CLS]', '냉', '##이', '*', '1', '##봉', '[SEP]'], ['[CLS]', '쑥', '##갓', '2kg', '[SEP]'], ['[CLS]', '백설', ')', '행복한', '##아', '##식', '##통', '##통', '##숙', '##주', '##38', '##0', '##g', '[SEP]'], ['[CLS]', '팩', '##느', '##타리', '##1', '##팩', '[SEP]'], ['[CLS]', '표고버섯', '(', '국산', ')', '1', '##k', '[SEP]'], ['[CLS]', '참조', '##기', '[SEP]'], ['[CLS]', '쭈꾸미', '[SEP]'], ['[CLS]', '새', '##송이', '##버섯', '(', '1인', '*', '4', '##봉', '한정', ')', '1', '##봉', '[SEP]'], ['[CLS]', '알', '##배기', '##배추', '##1', '##통', '[SEP]']]\n"
     ]
    }
   ],
   "source": [
    "logits = test_sentences([ \"제주무1개\",\n",
    "    \"청경채\",\n",
    "    \"냉이 * 1봉\",\n",
    "    \"쑥갓 2KG\",\n",
    "    \"백설)행복한아식통통숙주380g\",\n",
    "    \"팩느타리1팩\",\n",
    "    \"표고버섯(국산) 1k\",\n",
    "    \"참조기\",\n",
    "    \"쭈꾸미\",\n",
    "    \"새송이버섯(1인*4봉 한정)1봉\",\n",
    "    \"알배기배추1통\"])"
   ]
  },
  {
   "cell_type": "code",
   "execution_count": 6,
   "metadata": {},
   "outputs": [
    {
     "name": "stdout",
     "output_type": "stream",
     "text": [
      "모델의 분류 결과: 채소/무\n",
      "모델의 분류 결과: 채소/청경채\n",
      "모델의 분류 결과: 채소/냉이\n",
      "모델의 분류 결과: 채소/쑥갓\n",
      "모델의 분류 결과: 채소/숙주나물\n",
      "모델의 분류 결과: 채소/버섯\n",
      "모델의 분류 결과: 채소/버섯\n",
      "모델의 분류 결과: 생선/조기\n",
      "모델의 분류 결과: 어패류/주꾸미\n",
      "모델의 분류 결과: 채소/버섯\n",
      "모델의 분류 결과: 채소/배추\n"
     ]
    }
   ],
   "source": [
    "data = pd.read_csv(\"./result/label.csv\")\n",
    "\n",
    "for a in logits :\n",
    "    #print(np.argmax(a))\n",
    "    # 번호가 333에 해당하는 레이블을 찾습니다.\n",
    "    label = data[data['number'] == np.argmax(a)]['label'].values[0]\n",
    "    print(\"모델의 분류 결과:\", label)"
   ]
  }
 ],
 "metadata": {
  "kernelspec": {
   "display_name": "temp",
   "language": "python",
   "name": "python3"
  },
  "language_info": {
   "codemirror_mode": {
    "name": "ipython",
    "version": 3
   },
   "file_extension": ".py",
   "mimetype": "text/x-python",
   "name": "python",
   "nbconvert_exporter": "python",
   "pygments_lexer": "ipython3",
   "version": "3.1.undefined"
  }
 },
 "nbformat": 4,
 "nbformat_minor": 2
}
